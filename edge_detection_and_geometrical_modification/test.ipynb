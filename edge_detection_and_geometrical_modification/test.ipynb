{
 "cells": [
  {
   "cell_type": "code",
   "execution_count": 1,
   "metadata": {},
   "outputs": [
    {
     "name": "stderr",
     "output_type": "stream",
     "text": [
      "/home/allan/.local/lib/python3.10/site-packages/matplotlib/projections/__init__.py:63: UserWarning: Unable to import Axes3D. This may be due to multiple versions of Matplotlib being installed (e.g. as a system package and as a pip package). As a result, the 3D projection is not available.\n",
      "  warnings.warn(\"Unable to import Axes3D. This may be due to multiple versions of \"\n"
     ]
    }
   ],
   "source": [
    "import cv2\n",
    "import numpy as np\n",
    "import matplotlib.pyplot as plt\n",
    "import math\n",
    "from scipy import signal\n",
    "from enum import Enum"
   ]
  },
  {
   "cell_type": "markdown",
   "metadata": {},
   "source": [
    "# Problem 0 (Setup)"
   ]
  },
  {
   "cell_type": "code",
   "execution_count": 2,
   "metadata": {},
   "outputs": [],
   "source": [
    "def show_image(image):\n",
    "    print(\"The shape of the given image is {}.\".format(image.shape))\n",
    "    print(\"The data type of the given image is {}.\".format(image.dtype))\n",
    "    # cv2.imwrite('{}'.format(image_name),image)\n",
    "    cv2.imshow('image',image)\n",
    "    cv2.waitKey(0)\n",
    "    cv2.destroyAllWindows()\n",
    "\n",
    "def show_two_image(image1,image2):\n",
    "    print(\"The shape of the given image is {}.\".format(image1.shape))\n",
    "    print(\"The shape of the given image is {}.\".format(image2.shape))\n",
    "    print(\"The data type of the given image is {}.\".format(image1.dtype))\n",
    "    print(\"The data type of the given image is {}.\".format(image2.dtype))\n",
    "    cv2.imshow('image1',image1)\n",
    "    cv2.imshow('image2',image2)\n",
    "    cv2.waitKey(0)\n",
    "    cv2.destroyAllWindows()\n",
    "\n",
    "def image_save(image, image_name):\n",
    "    cv2.imwrite('{}'.format(image_name),image)\n",
    "    \n",
    "# def generate_image_histogram_value(image): \n",
    "#     result_count = []\n",
    "#     value_range = []\n",
    "#     for i in range(256):\n",
    "#         result_count.append(np.sum(image == i))\n",
    "#         value_range.append(i)\n",
    "#     return result_count, value_range\n",
    "\n",
    "def generate_image_histogram(image: np.ndarray, image_name): # TODO: write the result graph into a specific folder\n",
    "    plt.hist(image.flatten(),range=(0,270),bins=256)\n",
    "    plt.title('Histogram of {}'.format(image_name))\n",
    "    plt.xlabel('Pixel Value')\n",
    "    plt.ylabel('Pixel Number')\n",
    "    # plt.savefig('{}_hist.png'.format(image_name))\n",
    "    plt.show()\n",
    "\n",
    "def change_to_grayscale(arr): #input is constraint to a ndarray or a list\n",
    "    temp = [[] for i in range(len(arr))]\n",
    "    for i in range(0,len(arr)):\n",
    "        for j in range(0,len(arr[i])):\n",
    "            grayscale = 0.2989*arr[i][j][2] + 0.587*arr[i][j][1] + 0.114*arr[i][j][0]\n",
    "            temp[i].append(grayscale)\n",
    "    result = np.array(temp).astype(np.uint8)\n",
    "    return result"
   ]
  },
  {
   "cell_type": "code",
   "execution_count": 3,
   "metadata": {},
   "outputs": [
    {
     "data": {
      "text/plain": [
       "0"
      ]
     },
     "execution_count": 3,
     "metadata": {},
     "output_type": "execute_result"
    }
   ],
   "source": [
    "int(-0.7)"
   ]
  },
  {
   "cell_type": "code",
   "execution_count": 4,
   "metadata": {},
   "outputs": [
    {
     "name": "stdout",
     "output_type": "stream",
     "text": [
      "[[ 1  2  1]\n",
      " [ 0  0  0]\n",
      " [-1 -2 -1]]\n",
      "[[1.         0.         1.        ]\n",
      " [1.41421356 0.         1.41421356]\n",
      " [1.         0.         1.        ]]\n"
     ]
    }
   ],
   "source": [
    "def sqrt_image(image):\n",
    "    temp = [[] for i in range(len(image))]\n",
    "    for i in range(0,len(image)):\n",
    "        for j in range(0,len(image[i])):\n",
    "            temp[i].append(math.sqrt(image[i][j]))\n",
    "    return np.array(temp)\n",
    "sobel_column = np.array([[1,2,1],[0,0,0],[-1,-2,-1]])\n",
    "print(sobel_column)\n",
    "sobel_row = np.array([[1,0,1],[2,0,2],[1,0,1]])\n",
    "sqrt_row = sqrt_image(sobel_row)\n",
    "print(sqrt_row)"
   ]
  },
  {
   "cell_type": "code",
   "execution_count": 5,
   "metadata": {},
   "outputs": [],
   "source": [
    "# Implementation of Gaussian filter(low pass filter).\n",
    "def gaussian_kernel(size, sigma):\n",
    "    ax = np.linspace(-(size - 1) / 2., (size - 1) / 2., size)\n",
    "    gauss = np.exp(-0.5 * np.square(ax) / np.square(sigma))\n",
    "    kernel = np.outer(gauss, gauss)\n",
    "    return kernel / np.sum(kernel)\n",
    "def gaussian_filter(image,ker_s,sigma): #TODO: add filledvalue argument to decide what value to fill in when boundary is 'fill'\n",
    "    kernel = gaussian_kernel(ker_s,sigma)\n",
    "    result = signal.convolve2d(image,kernel,mode='same',boundary='symm')\n",
    "    return result\n"
   ]
  },
  {
   "cell_type": "markdown",
   "metadata": {},
   "source": [
    "# Problem 1"
   ]
  },
  {
   "cell_type": "code",
   "execution_count": 6,
   "metadata": {},
   "outputs": [],
   "source": [
    "class Direction(Enum):\n",
    "    Horizon = 1\n",
    "    Vertical = 2\n",
    "    Slash = 3\n",
    "    BackSlash = 4"
   ]
  },
  {
   "cell_type": "code",
   "execution_count": 7,
   "metadata": {},
   "outputs": [
    {
     "data": {
      "text/plain": [
       "(600, 600)"
      ]
     },
     "execution_count": 7,
     "metadata": {},
     "output_type": "execute_result"
    }
   ],
   "source": [
    "image1 = change_to_grayscale(cv2.imread(\"/home/allan/hw2_sample_images-1/hw2_sample_images/sample1.png\"))\n",
    "image1.shape"
   ]
  },
  {
   "cell_type": "code",
   "execution_count": 8,
   "metadata": {},
   "outputs": [],
   "source": [
    "# Implement Sobel edge detection\n",
    "def sqrt_image(image):\n",
    "    temp = [[] for i in range(len(image))]\n",
    "    for i in range(len(image)):\n",
    "        for j in range(len(image[i])):\n",
    "            temp[i].append(math.sqrt(image[i][j]))\n",
    "    return np.array(temp)\n",
    "\n",
    "def sobel_edge_detection(image,k):\n",
    "    sobel_column = np.array([[1,k,1],[0,0,0],[-1,-k,-1]])\n",
    "    sobel_row = np.array([[-1,0,1],[-k,0,k],[-1,0,1]])\n",
    "    temp_column = signal.convolve2d(image,sobel_column,mode='same',boundary='fill',fillvalue=0)\n",
    "    temp_row = signal.convolve2d(image,sobel_row,mode='same',boundary='fill',fillvalue=0)\n",
    "    temp1 = temp_column**2+temp_row**2\n",
    "    result2 = [[] for i in range(len(temp_column))]\n",
    "    for i in range(len(temp_column)):\n",
    "        for j in range(len(temp_column[i])):\n",
    "            temp = math.degrees(math.atan(temp_column[i][j]/temp_row[i][j]))\n",
    "            if 0<=temp<=22.5 or 337.5<=temp<=360 or 157.5<=temp<=202.5:\n",
    "                result2[i].append(Direction.Horizon.value)\n",
    "            elif 22.5<=temp<=67.5 or 202.5<=temp<=247.5:\n",
    "                result2[i].append(Direction.Slash.value)\n",
    "            elif 67.5<=temp<=112.5 or 247.5<=temp<=292.5:\n",
    "                result2[i].append(Direction.Vertical.value)\n",
    "            else:\n",
    "                result2[i].append(Direction.BackSlash.value)\n",
    "            # result2.append(temp)\n",
    "    result1 = (1/4)*sqrt_image(temp1)\n",
    "    return np.array(result1).astype(np.uint8),result2\n",
    "\n",
    "def select_gradient(image,t):\n",
    "    temp = [[] for i in range(len(image))]\n",
    "    for i in range(len(image)):\n",
    "        for j in range(len(image[i])):\n",
    "            if image[i][j] > t:\n",
    "                temp[i].append(255)\n",
    "            else:\n",
    "                temp[i].append(0)\n",
    "    return np.array(temp).astype(np.uint8)"
   ]
  },
  {
   "cell_type": "code",
   "execution_count": 9,
   "metadata": {},
   "outputs": [
    {
     "name": "stderr",
     "output_type": "stream",
     "text": [
      "/tmp/ipykernel_105753/286184866.py:18: RuntimeWarning: divide by zero encountered in scalar divide\n",
      "  temp = math.degrees(math.atan(temp_column[i][j]/temp_row[i][j]))\n",
      "/tmp/ipykernel_105753/286184866.py:18: RuntimeWarning: invalid value encountered in scalar divide\n",
      "  temp = math.degrees(math.atan(temp_column[i][j]/temp_row[i][j]))\n"
     ]
    },
    {
     "data": {
      "image/png": "[encoded data removed]",
      "text/plain": [
       "<Figure size 640x480 with 1 Axes>"
      ]
     },
     "metadata": {},
     "output_type": "display_data"
    }
   ],
   "source": [
    "sobel_image1, image1_dir= sobel_edge_detection(image1,2)\n",
    "image_save(sobel_image1,'result1.png')\n",
    "generate_image_histogram(sobel_image1,'sample 1 after sobel edge detection')"
   ]
  },
  {
   "cell_type": "code",
   "execution_count": 10,
   "metadata": {},
   "outputs": [],
   "source": [
    "result1_100 = select_gradient(sobel_image1,100)\n",
    "result1_50 = select_gradient(sobel_image1,50)\n",
    "result1_25 = select_gradient(sobel_image1,25)\n",
    "result1_35 = select_gradient(sobel_image1,35) #final parameter\n",
    "\n",
    "image_save(result1_100,'result1_100.png')\n",
    "image_save(result1_50,'result1_50.png')\n",
    "image_save(result1_25,'result1_25.png')\n",
    "image_save(result1_35,'result1_35.png') #final parameter"
   ]
  },
  {
   "cell_type": "code",
   "execution_count": 11,
   "metadata": {},
   "outputs": [],
   "source": [
    "class Pixel(Enum):\n",
    "    Edge = 2\n",
    "    Candidate = 1\n",
    "    Nonedge = 0"
   ]
  },
  {
   "cell_type": "code",
   "execution_count": 12,
   "metadata": {},
   "outputs": [],
   "source": [
    "# Implement Canny edge detection\n",
    "# Sobel detection and gaussian filter is implemented\n",
    "def non_maximal_supression(image,dir):\n",
    "    temp_image = []\n",
    "    for i in range(len(image)):\n",
    "        temp_list = []\n",
    "        for j in range(len(image[i])):\n",
    "            if i==0 or j==0 or i==len(image)-1 or j==len(image[0])-1:\n",
    "                temp_list.append(0)\n",
    "                continue\n",
    "            if dir[i][j] == Direction.Horizon.value:\n",
    "                if image[i][j]>image[i][j-1] and image[i][j]>image[i][j+1]:\n",
    "                    temp_list.append(image[i][j])\n",
    "                else:\n",
    "                    temp_list.append(0)\n",
    "            elif dir[i][j] == Direction.Vertical.value:\n",
    "                if image[i][j]>image[i-1][j] and image[i][j]>image[i+1][j]:\n",
    "                    temp_list.append(image[i][j])\n",
    "                else:\n",
    "                    temp_list.append(0)\n",
    "            elif dir[i][j] == Direction.Slash.value:\n",
    "                if image[i][j]>image[i+1][j-1] and image[i][j]>image[i-1][j+1]:\n",
    "                    temp_list.append(image[i][j])\n",
    "                else:\n",
    "                    temp_list.append(0)\n",
    "            else:\n",
    "                if image[i][j]>image[i-1][j-1] and image[i][j]>image[i+1][j+1]:\n",
    "                    temp_list.append(image[i][j])\n",
    "                else:\n",
    "                    temp_list.append(0)\n",
    "        temp_image.append(temp_list)\n",
    "    return np.array(temp_image).astype(np.uint8)\n",
    "    # if i==0 or j==0 or i==255 or j==255:\n",
    "    #     return image\n",
    "    # if dir == Direction.Horizon.value:\n",
    "    #     if image[i][j]>image[i][j-1] and image[i][j]>image[i][j+1]:\n",
    "    #         return image\n",
    "    #     else:\n",
    "    #         image[i][j] = 0\n",
    "    #         return image\n",
    "\n",
    "def hysteretic_thresholding(supressed_image,high,low):\n",
    "    edge_list = []\n",
    "    mark_image = [[] for i in range(len(supressed_image))]\n",
    "    for i in range(len(supressed_image)):\n",
    "        for j in range(len(supressed_image[i])):\n",
    "            if supressed_image[i][j]>=high:\n",
    "                edge_list.append((i,j))\n",
    "                mark_image[i].append(Pixel.Edge.value)\n",
    "                supressed_image[i][j] = 255\n",
    "            elif high>supressed_image[i][j]>=low:\n",
    "                mark_image[i].append(Pixel.Candidate.value)\n",
    "            else:\n",
    "                mark_image[i].append(Pixel.Nonedge.value)\n",
    "    return supressed_image, mark_image, edge_list\n",
    "\n",
    "def connect_candidate(image,marked,edge_list:list):\n",
    "    while len(edge_list)!=0:\n",
    "        temp_list_i = []\n",
    "        temp_list_j = []\n",
    "        index = edge_list.pop()\n",
    "        if index[0] == 0:\n",
    "            temp_list_i.append(index[0])\n",
    "            temp_list_i.append(index[0]+1)\n",
    "        elif index[0] == len(image):\n",
    "            temp_list_i.append(index[0]-1)\n",
    "            temp_list_i.append(index[0])\n",
    "        else:\n",
    "            temp_list_i.append(index[0]-1)\n",
    "            temp_list_i.append(index[0])\n",
    "            temp_list_i.append(index[0]+1)\n",
    "        if index[1] == 0:\n",
    "            temp_list_j.append(index[1])\n",
    "            temp_list_j.append(index[1]+1)\n",
    "        elif index[1] == len(image[0]):\n",
    "            temp_list_j.append(index[1]-1)\n",
    "            temp_list_j.append(index[1])\n",
    "        else:\n",
    "            temp_list_j.append(index[1]-1)\n",
    "            temp_list_j.append(index[1])\n",
    "            temp_list_j.append(index[1]+1)\n",
    "        for a in temp_list_i:\n",
    "            for b in temp_list_j:\n",
    "                if marked[a][b] == Pixel.Candidate.value:\n",
    "                    image[a][b] = 255\n",
    "                    marked[a][b] = Pixel.Edge.value\n",
    "                    edge_list.append((a,b))\n",
    "                else:\n",
    "                    pass\n",
    "    return np.array(image).astype(np.uint8)\n",
    "\n",
    "def canny_detection(image,k): # argument is the same as sobel detection\n",
    "    filtered_image = gaussian_filter(image,3,2)\n",
    "    "
   ]
  },
  {
   "cell_type": "code",
   "execution_count": 13,
   "metadata": {},
   "outputs": [
    {
     "name": "stderr",
     "output_type": "stream",
     "text": [
      "/tmp/ipykernel_105753/286184866.py:18: RuntimeWarning: divide by zero encountered in scalar divide\n",
      "  temp = math.degrees(math.atan(temp_column[i][j]/temp_row[i][j]))\n",
      "/tmp/ipykernel_105753/286184866.py:18: RuntimeWarning: invalid value encountered in scalar divide\n",
      "  temp = math.degrees(math.atan(temp_column[i][j]/temp_row[i][j]))\n"
     ]
    },
    {
     "data": {
      "image/png": "[encoded data removed]",
      "text/plain": [
       "<Figure size 640x480 with 1 Axes>"
      ]
     },
     "metadata": {},
     "output_type": "display_data"
    }
   ],
   "source": [
    "image_sobel, image_dir= sobel_edge_detection(gaussian_filter(image1,3,2),2)\n",
    "# image_sobel.shape\n",
    "# print(len(image_dir))\n",
    "supressed_image = non_maximal_supression(image_sobel,image_dir)\n",
    "generate_image_histogram(supressed_image,'supressed image')\n",
    "# selected_image,image_mark,edge_list = hysteretic_thresholding(supressed_image,25,10)\n",
    "# connected_image = connect_candidate(selected_image,image_mark,edge_list)\n"
   ]
  },
  {
   "cell_type": "code",
   "execution_count": 14,
   "metadata": {},
   "outputs": [],
   "source": [
    "selected_image_40_20,image_mark_40_20,edge_list_40_20 = hysteretic_thresholding(supressed_image,40,20)\n",
    "selected_image_25_10,image_mark_25_10,edge_list_25_10 = hysteretic_thresholding(supressed_image,25,10)\n",
    "image_save(selected_image_40_20,'result3_40_20.png')\n",
    "image_save(selected_image_25_10,'result3_25_10.png') #final parameter\n"
   ]
  },
  {
   "cell_type": "code",
   "execution_count": 15,
   "metadata": {},
   "outputs": [],
   "source": [
    "connected_image = connect_candidate(selected_image_25_10,image_mark_25_10,edge_list_25_10)\n",
    "image_save(connected_image,\"result3.png\")\n"
   ]
  },
  {
   "cell_type": "code",
   "execution_count": 16,
   "metadata": {},
   "outputs": [],
   "source": [
    "# Implement Laplacian of Gaussian edge detection\n",
    "def laplacian_gaussian(image):\n",
    "    operator = np.array([[-1/8,-1/8,-1/8],[-1/8,1,-1/8],[-1/8,-1/8,-1/8]])\n",
    "    temp_image = gaussian_filter(image,3,2)\n",
    "    result = signal.convolve2d(temp_image,operator,mode='same',boundary='symm')\n",
    "    return np.array(result).astype(np.uint8)"
   ]
  },
  {
   "cell_type": "code",
   "execution_count": 17,
   "metadata": {},
   "outputs": [],
   "source": [
    "log_image = laplacian_gaussian(image1)\n",
    "image_save(log_image,'result4.png')"
   ]
  },
  {
   "cell_type": "code",
   "execution_count": 18,
   "metadata": {},
   "outputs": [],
   "source": [
    "# Implement edge crispening\n",
    "def edge_crispening(image,ker_s,sigma,c):# c 3/5--5/6 0.6-0.83\n",
    "    temp_image1 = image\n",
    "    temp_image2 = gaussian_filter(image,ker_s,sigma)\n",
    "    temp1 = temp_image1 * (c/(2*c-1))\n",
    "    temp2 = temp_image2 * ((1-c)/(2*c-1))\n",
    "    result = temp1 - temp2\n",
    "    return np.array(result).astype(np.uint8)"
   ]
  },
  {
   "cell_type": "code",
   "execution_count": 19,
   "metadata": {},
   "outputs": [],
   "source": [
    "image2 = change_to_grayscale(cv2.imread(\"/home/allan/hw2_sample_images-1/hw2_sample_images/sample2.png\"))\n",
    "image2_cris_0_6 = edge_crispening(image2,3,2,0.6) # final\n",
    "image2_cris_0_7 = edge_crispening(image2,3,2,0.7)\n",
    "image2_cris_0_8 = edge_crispening(image2,3,2,0.8)\n",
    "image_save(image2_cris_0_6,'result5_0_6.png')\n",
    "image_save(image2_cris_0_7,'result5_0_7.png')\n",
    "image_save(image2_cris_0_8,'result5_0_8.png')"
   ]
  },
  {
   "cell_type": "markdown",
   "metadata": {},
   "source": [
    "# Problem 2"
   ]
  },
  {
   "cell_type": "code",
   "execution_count": 20,
   "metadata": {},
   "outputs": [],
   "source": [
    "def distortion(x,y,k1=0,k2=0,p1=0,p2=0,s1=0,s2=0):\n",
    "    r_square = x**2 + y**2\n",
    "    k = 1 + k1*r_square + k2*(r_square**2)\n",
    "    u = x*k + 2*p2*x*y + p1*(r_square + 2*(x**2)) + s1*r_square\n",
    "    v = y*k + p2*(r_square + 2*(y**2)) + 2*p1*x*y + s2*r_square\n",
    "    return int(u), int(v)\n",
    "\n",
    "def get_rotate(sigma):\n",
    "    temp = np.array([[np.cos(sigma),-np.sin(sigma),0],[np.sin(sigma),np.cos(sigma),0],[0,0,1]])\n",
    "    return temp\n",
    "def get_translation(x_off,y_off):\n",
    "    temp = np.array([[1,0,x_off],[0,1,y_off],[0,0,1]])\n",
    "    return temp\n",
    "def get_scale(mag):\n",
    "    temp = np.array([[mag,0,0],[0,mag,0],[0,0,1]])\n",
    "    return temp\n",
    "def transform(x,y,sigma=0,x_offset=0,y_offset=0,mag=1):\n",
    "    operator_rotate = np.linalg.inv(get_rotate(sigma))\n",
    "    operator_translation = np.linalg.inv(get_translation(x_offset,y_offset))\n",
    "    operator_scale = np.linalg.inv(get_scale(mag))\n",
    "    temp = np.dot(operator_translation,operator_scale)\n",
    "    operator = np.dot(temp,operator_rotate)\n",
    "    target = np.array([x,y,1])\n",
    "    result = np.dot(operator,target)\n",
    "    return int(result[0]),int(result[1])\n",
    "    \n"
   ]
  },
  {
   "cell_type": "code",
   "execution_count": 21,
   "metadata": {},
   "outputs": [
    {
     "name": "stdout",
     "output_type": "stream",
     "text": [
      "[[255 255 255 ... 255 255 255]\n",
      " [255 255 255 ... 255 255 255]\n",
      " [255 255 255 ... 255 255 255]\n",
      " ...\n",
      " [255 255 255 ... 255 255 255]\n",
      " [255 255 255 ... 255 255 255]\n",
      " [255 255 255 ... 255 255 255]]\n"
     ]
    }
   ],
   "source": [
    "temp_image = [[255 for j in range(600)]for i in range(600)]\n",
    "print(np.array(temp_image).astype(np.uint8))"
   ]
  },
  {
   "cell_type": "code",
   "execution_count": 22,
   "metadata": {},
   "outputs": [],
   "source": [
    " \n",
    "def barrel_distortion(image,x_or,y_or):\n",
    "    # set up the x and y maps as float32\n",
    "    h = len(image)\n",
    "    w = len(image[0])\n",
    "    map_x = np.zeros((h, w), np.float32)\n",
    "    map_y = np.zeros((h, w), np.float32)\n",
    "\n",
    "    scale_x = 1\n",
    "    scale_y = 1\n",
    "    center_x = x_or\n",
    "    center_y = y_or\n",
    "    radius = w/2\n",
    "    #amount = -0.75   # negative values produce pincushion\n",
    "    amount = 0.75   # positive values produce barrel\n",
    "\n",
    "    # create map with the barrel pincushion distortion formula\n",
    "    for y in range(h):\n",
    "        delta_y = scale_y * (y - center_y)\n",
    "        for x in range(w):\n",
    "            # determine if pixel is within an ellipse\n",
    "            delta_x = scale_x * (x - center_x)\n",
    "            distance = delta_x * delta_x + delta_y * delta_y\n",
    "            if distance >= (radius * radius):\n",
    "                map_x[y, x] = x\n",
    "                map_y[y, x] = y\n",
    "            else:\n",
    "                factor = 1.0\n",
    "                if distance > 0.0:\n",
    "                    factor = math.pow(math.sin(math.pi * math.sqrt(distance) / radius / 2), amount)\n",
    "                map_x[y, x] = factor * delta_x / scale_x + center_x\n",
    "                map_y[y, x] = factor * delta_y / scale_y + center_y\n",
    "                \n",
    "\n",
    "    # do the remap\n",
    "    dst = cv2.remap(image, map_x, map_y, cv2.INTER_LINEAR)\n",
    "    return dst\n"
   ]
  },
  {
   "cell_type": "code",
   "execution_count": 23,
   "metadata": {},
   "outputs": [],
   "source": [
    "def traslation(image,x_offset,y_offset):\n",
    "    temp_image = np.copy(image)\n",
    "    for i in range(len(temp_image)):\n",
    "        for j in range(len(temp_image[i])):\n",
    "            u,v = transform(i,j,x_offset=x_offset,y_offset=y_offset)\n",
    "            if len(image)>u>=0 and len(image[0])>v>=0:\n",
    "                temp_image[u][v] = image[i][j]\n",
    "    return temp_image\n",
    "def scaling(image,mag):\n",
    "    temp_image = np.copy(image)\n",
    "    for i in range(len(temp_image)):\n",
    "        for j in range(len(temp_image[i])):\n",
    "            u,v = transform(i,j,mag=mag)\n",
    "            if len(image)>u>=0 and len(image[0])>v>=0:\n",
    "                temp_image[u][v] = image[i][j]\n",
    "    return temp_image\n",
    "def rotation(image,sigma):\n",
    "    temp_image = np.copy(image)\n",
    "    for i in range(len(temp_image)):\n",
    "        for j in range(len(temp_image[i])):\n",
    "            u,v = transform(i,j,sigma=sigma)\n",
    "            if len(image)>u>=0 and len(image[0])>v>=0:\n",
    "                temp_image[u][v] = image[i][j]\n",
    "    return temp_image"
   ]
  },
  {
   "cell_type": "code",
   "execution_count": 50,
   "metadata": {},
   "outputs": [
    {
     "name": "stdout",
     "output_type": "stream",
     "text": [
      "The shape of the given image is (600, 600).\n",
      "The data type of the given image is uint8.\n"
     ]
    }
   ],
   "source": [
    "image3 = change_to_grayscale(cv2.imread(\"/home/allan/hw2_sample_images-1/hw2_sample_images/sample3.png\"))\n",
    "image3_distorted = barrel_distortion(image3,280,270)\n",
    "# image_save(image3_distorted,'test_distortion.png')\n",
    "# show_two_image(image3,image3_distorted)\n",
    "image3_translated = traslation(image3_distorted,10,-110)\n",
    "image3_rotated = rotation(image3_translated,0.33*np.pi)\n",
    "show_image(image3_rotated)"
   ]
  },
  {
   "cell_type": "code",
   "execution_count": 51,
   "metadata": {},
   "outputs": [],
   "source": [
    "image_save(image3_rotated,'result8_rotate.png')\n"
   ]
  },
  {
   "cell_type": "code",
   "execution_count": 25,
   "metadata": {},
   "outputs": [],
   "source": [
    "def dance_distortion(image,scale,phi):\n",
    "    temp_image = list(image)\n",
    "    for i in range(len(temp_image)):\n",
    "        move = int(math.cos(i*phi)*scale)\n",
    "        if move<0:\n",
    "            for count in range(-move):\n",
    "                temp_image[i] = np.delete(temp_image[i],[-1])\n",
    "                temp_image[i] = np.insert(temp_image[i],0,255)\n",
    "        elif move > 0:\n",
    "            for count in range(move):\n",
    "                temp_image[i] = np.delete(temp_image[i],[0])\n",
    "                temp_image[i] = np.insert(temp_image[i],-1,255)\n",
    "        else:\n",
    "            continue\n",
    "    return np.array(temp_image).astype(np.uint8)\n"
   ]
  },
  {
   "cell_type": "code",
   "execution_count": 39,
   "metadata": {},
   "outputs": [
    {
     "name": "stdout",
     "output_type": "stream",
     "text": [
      "The shape of the given image is (600, 800).\n",
      "The data type of the given image is uint8.\n"
     ]
    }
   ],
   "source": [
    "image4 = change_to_grayscale(cv2.imread(\"/home/allan/hw2_sample_images-1/hw2_sample_images/sample5.png\"))\n",
    "image4_distorted = dance_distortion(image4,15,0.03*np.pi)\n",
    "show_image(image4_distorted)"
   ]
  },
  {
   "cell_type": "code",
   "execution_count": 40,
   "metadata": {},
   "outputs": [],
   "source": [
    "image_save(image4_distorted,'result9_third.png')"
   ]
  },
  {
   "cell_type": "markdown",
   "metadata": {},
   "source": []
  }
 ],
 "metadata": {
  "kernelspec": {
   "display_name": "Python 3",
   "language": "python",
   "name": "python3"
  },
  "language_info": {
   "codemirror_mode": {
    "name": "ipython",
    "version": 3
   },
   "file_extension": ".py",
   "mimetype": "text/x-python",
   "name": "python",
   "nbconvert_exporter": "python",
   "pygments_lexer": "ipython3",
   "version": "3.10.12"
  }
 },
 "nbformat": 4,
 "nbformat_minor": 2
}
