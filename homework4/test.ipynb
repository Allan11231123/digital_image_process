{
 "cells": [
  {
   "cell_type": "markdown",
   "metadata": {},
   "source": [
    "# Problem0"
   ]
  },
  {
   "cell_type": "code",
   "execution_count": 1,
   "metadata": {},
   "outputs": [
    {
     "name": "stderr",
     "output_type": "stream",
     "text": [
      "/home/allan/.local/lib/python3.10/site-packages/matplotlib/projections/__init__.py:63: UserWarning: Unable to import Axes3D. This may be due to multiple versions of Matplotlib being installed (e.g. as a system package and as a pip package). As a result, the 3D projection is not available.\n",
      "  warnings.warn(\"Unable to import Axes3D. This may be due to multiple versions of \"\n"
     ]
    }
   ],
   "source": [
    "import cv2\n",
    "import numpy as np\n",
    "\n",
    "import matplotlib.pyplot as plt\n",
    "import math\n",
    "from scipy import signal\n",
    "from enum import Enum"
   ]
  },
  {
   "cell_type": "code",
   "execution_count": 2,
   "metadata": {},
   "outputs": [],
   "source": [
    "def show_image(image):\n",
    "    print(\"The shape of the given image is {}.\".format(image.shape))\n",
    "    print(\"The data type of the given image is {}.\".format(image.dtype))\n",
    "    # cv2.imwrite('{}'.format(image_name),image)\n",
    "    cv2.imshow('image',image)\n",
    "    cv2.waitKey(0)\n",
    "    cv2.destroyAllWindows()\n",
    "\n",
    "def show_two_image(image1,image2):\n",
    "    print(\"The shape of the given image is {}.\".format(image1.shape))\n",
    "    print(\"The shape of the given image is {}.\".format(image2.shape))\n",
    "    print(\"The data type of the given image is {}.\".format(image1.dtype))\n",
    "    print(\"The data type of the given image is {}.\".format(image2.dtype))\n",
    "    cv2.imshow('image1',image1)\n",
    "    cv2.imshow('image2',image2)\n",
    "    cv2.waitKey(0)\n",
    "    cv2.destroyAllWindows()\n",
    "\n",
    "def image_save(image, image_name):\n",
    "    cv2.imwrite('{}'.format(image_name),image)\n",
    "    \n",
    "# def generate_image_histogram_value(image): \n",
    "#     result_count = []\n",
    "#     value_range = []\n",
    "#     for i in range(256):\n",
    "#         result_count.append(np.sum(image == i))\n",
    "#         value_range.append(i)\n",
    "#     return result_count, value_range\n",
    "\n",
    "def generate_image_histogram(image: np.ndarray, image_name): # TODO: write the result graph into a specific folder\n",
    "    plt.hist(image.flatten(),range=(0,270),bins=256)\n",
    "    plt.title('Histogram of {}'.format(image_name))\n",
    "    plt.xlabel('Pixel Value')\n",
    "    plt.ylabel('Pixel Number')\n",
    "    # plt.savefig('{}_hist.png'.format(image_name))\n",
    "    plt.show()\n",
    "\n",
    "def change_to_grayscale(arr): #input is constraint to a ndarray or a list\n",
    "    temp = [[] for i in range(len(arr))]\n",
    "    for i in range(0,len(arr)):\n",
    "        for j in range(0,len(arr[i])):\n",
    "            grayscale = 0.2989*arr[i][j][2] + 0.587*arr[i][j][1] + 0.114*arr[i][j][0]\n",
    "            temp[i].append(grayscale)\n",
    "    result = np.array(temp).astype(np.uint8)\n",
    "    return result"
   ]
  },
  {
   "cell_type": "code",
   "execution_count": 3,
   "metadata": {},
   "outputs": [],
   "source": [
    "image1 = change_to_grayscale(cv2.imread(\"./hw4_sample_images-2/hw4_sample_images/sample1.png\"))\n",
    "image2 = change_to_grayscale(cv2.imread(\"./hw4_sample_images-2/hw4_sample_images/sample2.png\"))\n",
    "image3 = change_to_grayscale(cv2.imread(\"./hw4_sample_images-2/hw4_sample_images/sample3.png\"))\n",
    "image4 = change_to_grayscale(cv2.imread(\"./hw4_sample_images-2/hw4_sample_images/sample4.png\"))"
   ]
  },
  {
   "cell_type": "markdown",
   "metadata": {},
   "source": [
    "# Problem1"
   ]
  },
  {
   "cell_type": "code",
   "execution_count": 4,
   "metadata": {},
   "outputs": [],
   "source": [
    "def dithering(img,dither_size): #dither size is power of 2\n",
    "    n = int(math.log2(dither_size))\n",
    "    dither = np.array([[1,2],[3,0]])\n",
    "    N = 2\n",
    "    for _ in range(n-1):\n",
    "        temp_I = np.zeros((N*2,N*2))\n",
    "        temp_I[0:N,0:N] = 4*dither+1\n",
    "        temp_I[N:2*N,0:N] = 4*dither+2\n",
    "        temp_I[0:N,N:2*N] = 4*dither+3\n",
    "        temp_I[N:2*N,N:2*N] = 4*dither\n",
    "        dither = temp_I\n",
    "        N*=2\n",
    "    x,y = img.shape\n",
    "    threshold = 255*(dither+0.5)/(N*N)\n",
    "    res = np.zeros((x,y))\n",
    "    res[0:(x//N)*N,0:(y//N)*N] = np.tile(threshold,(x//N,y//N))\n",
    "    res[(x//N)*N:x][:] = res[0:x-(x//N)*N][:]\n",
    "    res[:,(y//N)*N:y] = res[:,0:y-(y//N)*N]\n",
    "    result = np.zeros((x,y))\n",
    "    result[img>=res] = 255\n",
    "    return result\n"
   ]
  },
  {
   "cell_type": "code",
   "execution_count": 5,
   "metadata": {},
   "outputs": [
    {
     "name": "stdout",
     "output_type": "stream",
     "text": [
      "The shape of the given image is (600, 600).\n",
      "The data type of the given image is float64.\n"
     ]
    }
   ],
   "source": [
    "result1 = dithering(image1,2)\n",
    "show_image(result1)"
   ]
  },
  {
   "cell_type": "code",
   "execution_count": 6,
   "metadata": {},
   "outputs": [],
   "source": [
    "image_save(result1,'result1.png')"
   ]
  },
  {
   "cell_type": "code",
   "execution_count": 7,
   "metadata": {},
   "outputs": [
    {
     "name": "stdout",
     "output_type": "stream",
     "text": [
      "The shape of the given image is (600, 600).\n",
      "The data type of the given image is float64.\n"
     ]
    }
   ],
   "source": [
    "result2 = dithering(image1,256)\n",
    "show_image(result2)"
   ]
  },
  {
   "cell_type": "code",
   "execution_count": 8,
   "metadata": {},
   "outputs": [],
   "source": [
    "image_save(result2,'result2.png')"
   ]
  },
  {
   "cell_type": "code",
   "execution_count": 9,
   "metadata": {},
   "outputs": [
    {
     "data": {
      "text/plain": [
       "(600, 600)"
      ]
     },
     "execution_count": 9,
     "metadata": {},
     "output_type": "execute_result"
    }
   ],
   "source": [
    "result2.shape"
   ]
  },
  {
   "cell_type": "code",
   "execution_count": 10,
   "metadata": {},
   "outputs": [],
   "source": [
    "def error_diffusion(image,filter):\n",
    "    if filter == 'Floyd_Steinberg':\n",
    "        mask = np.array([[0,0,0],[0,0,7],[3,5,1]])/16\n",
    "        mask_r = np.array([[0,0,0],[7,0,0],[1,5,3]])/16\n",
    "    elif filter == 'Jarvis':\n",
    "        mask = np.array([[0,0,0,0,0],[0,0,0,0,0],[0,0,0,7,5],\n",
    "                         [3,5,7,5,3],[1,3,5,3,1]])/48\n",
    "        mask_r = np.array([[0,0,0,0,0],[0,0,0,0,0],[5,7,0,0,0],\n",
    "                           [3,5,7,5,3],[1,3,5,3,1]])/48\n",
    "    else:\n",
    "        print('Please input the correct filter type, Floyd_Steinberg or Jarvis.')\n",
    "        return image\n",
    "    pad_size = mask.shape[0]//2\n",
    "    x,y = image.shape\n",
    "    target = np.pad(image,(pad_size,pad_size),'constant')/255\n",
    "    result = np.zeros((x+2*pad_size,y+2*pad_size))\n",
    "    for i in range(pad_size,x+pad_size):\n",
    "        if (i-pad_size)%2==0:\n",
    "            j = pad_size\n",
    "            while j<y+pad_size:\n",
    "                if target[i,j]>0.5:\n",
    "                    result[i,j] = 1\n",
    "                else:\n",
    "                    result[i,j] = 0\n",
    "                error = target[i,j] - result[i,j]\n",
    "                target[i-pad_size:i+pad_size+1,j-pad_size:j+pad_size+1] += mask*error\n",
    "                j+=1\n",
    "\n",
    "        else:\n",
    "            j = y+pad_size-1\n",
    "            while j>=pad_size:\n",
    "                if target[i,j]>0.5:\n",
    "                    result[i,j] = 1\n",
    "                else:\n",
    "                    result[i,j] = 0\n",
    "                error = target[i,j]-result[i,j]\n",
    "                target[i-pad_size:i+pad_size+1,j-pad_size:j+pad_size+1] += mask_r*error\n",
    "                j-=1\n",
    "    return result[pad_size:x+pad_size,pad_size:y+pad_size]*255"
   ]
  },
  {
   "cell_type": "code",
   "execution_count": 11,
   "metadata": {},
   "outputs": [
    {
     "name": "stdout",
     "output_type": "stream",
     "text": [
      "The shape of the given image is (600, 600).\n",
      "The data type of the given image is float64.\n"
     ]
    }
   ],
   "source": [
    "result3 = error_diffusion(image1,'Floyd_Steinberg')\n",
    "show_image(result3)"
   ]
  },
  {
   "cell_type": "code",
   "execution_count": 12,
   "metadata": {},
   "outputs": [],
   "source": [
    "image_save(result3,'result3.png')"
   ]
  },
  {
   "cell_type": "code",
   "execution_count": 13,
   "metadata": {},
   "outputs": [
    {
     "name": "stdout",
     "output_type": "stream",
     "text": [
      "The shape of the given image is (600, 600).\n",
      "The data type of the given image is float64.\n"
     ]
    }
   ],
   "source": [
    "result4 = error_diffusion(image1,'Jarvis')\n",
    "show_image(result4)"
   ]
  },
  {
   "cell_type": "code",
   "execution_count": 14,
   "metadata": {},
   "outputs": [],
   "source": [
    "image_save(result4,'result4.png')"
   ]
  },
  {
   "cell_type": "markdown",
   "metadata": {},
   "source": [
    "# Problem2"
   ]
  },
  {
   "cell_type": "code",
   "execution_count": 81,
   "metadata": {},
   "outputs": [],
   "source": [
    "def construct_training_data():\n",
    "    image = change_to_grayscale(cv2.imread(\"./hw4_sample_images-2/hw4_sample_images/TrainingSet.png\"))\n",
    "    target = np.zeros(image.shape)\n",
    "    for i in range(len(image)):\n",
    "        for j in range(len(image[0])):\n",
    "            if image[i][j] < 200:\n",
    "                target[i][j] = 1\n",
    "    \n",
    "    return target.astype(np.int8)\n",
    "\n",
    "def construct_reference():\n",
    "    image = construct_training_data()\n",
    "    num_label,labels = cv2.connectedComponents(image)\n",
    "    print(\"there are {} object in the given image\".format(num_label))\n",
    "    for i in range(num_label):\n",
    "        image[labels==i] = i/num_label*255\n",
    "    return image\n",
    "\n",
    "def generate_binary_image(image):\n",
    "    result = np.zeros(image.shape)\n",
    "    result[image>0] = 1\n",
    "    return result.astype(np.int8)\n",
    "def calculate_bit_quad(image,patterns):\n",
    "    result = 0\n",
    "    x,y = image.shape\n",
    "    for i in range(x-1):\n",
    "        for j in range(y-1):\n",
    "            for pattern in patterns:\n",
    "                if (image[i:i+len(pattern),j:j+len(pattern)]==pattern).all():\n",
    "                    result+=1\n",
    "    return result\n",
    "def bit_quad_ratio(image):\n",
    "    x,y = image.shape\n",
    "    q1 = [\n",
    "    np.array([[1,0],[0,0]]),\n",
    "    np.array([[0,1],[0,0]]),\n",
    "    np.array([[0,0],[1,0]]),\n",
    "    np.array([[0,0],[0,1]])]\n",
    "    q2 = [\n",
    "    np.array([[1,1],[0,0]]),\n",
    "    np.array([[0,1],[0,1]]),\n",
    "    np.array([[1,0],[1,0]]),\n",
    "    np.array([[0,0],[1,1]])]\n",
    "    q3 = [\n",
    "    np.array([[1,1],[1,0]]),\n",
    "    np.array([[1,0],[1,1]]),\n",
    "    np.array([[1,1],[0,1]]),\n",
    "    np.array([[0,1],[1,1]])]\n",
    "    q4 = [np.array([[1,1],[1,1]])]\n",
    "    qd = [\n",
    "    np.array([[1,0],[0,1]]),\n",
    "    np.array([[0,1],[1,0]])]\n",
    "    gray_area = 0\n",
    "    gray_perimeter = 0\n",
    "    duda_area = 0\n",
    "    duda_perimeter_1 = 0\n",
    "    duda_perimeter_2 = 0\n",
    "    for i in range(x-1):\n",
    "        for j in range(y-1):\n",
    "            grab_local = np.array(image[i:i+2, j:j+2])\n",
    "            if np.any([np.array_equal(grab_local, q) for q in q1]):\n",
    "                gray_area += 1\n",
    "                gray_perimeter += 1\n",
    "                duda_area += 2\n",
    "                duda_perimeter_2 += 1\n",
    "            elif np.any([np.array_equal(grab_local, q) for q in q2]):\n",
    "                gray_area += 2\n",
    "                gray_perimeter += 1\n",
    "                duda_area += 4\n",
    "                duda_perimeter_1 += 1\n",
    "            elif np.any([np.array_equal(grab_local, q) for q in q3]):\n",
    "                gray_area += 3\n",
    "                gray_perimeter += 1\n",
    "                duda_area += 7\n",
    "                duda_perimeter_2 += 1\n",
    "            elif np.any([np.array_equal(grab_local, q) for q in q4]):\n",
    "                gray_area += 4\n",
    "                gray_perimeter += 0\n",
    "                duda_area += 8\n",
    "            elif np.any([np.array_equal(grab_local, q) for q in qd]):\n",
    "                gray_area += 2\n",
    "                gray_perimeter += 2\n",
    "                duda_area += 6\n",
    "                duda_perimeter_2 += 2\n",
    "    if gray_perimeter==0:\n",
    "        gray_perimeter+=1\n",
    "    \n",
    "    gray_ratio = (gray_area/4)/gray_perimeter\n",
    "    gray_cir = 4*np.pi*gray_area/(gray_perimeter**2)\n",
    "    duda_perimeter = duda_perimeter_1+duda_perimeter_2/(2**0.5)\n",
    "    if duda_perimeter==0:\n",
    "        duda_perimeter+=1\n",
    "    duda_ratio = (duda_area/8)/duda_perimeter\n",
    "    duda_cir = 4*np.pi*duda_area/(duda_perimeter**2)\n",
    "    return gray_ratio,gray_cir,duda_ratio,duda_cir\n",
    "\n",
    "def generate_reference_table():\n",
    "    result_gray = []\n",
    "    result_duda = []\n",
    "    table = ['A','B','C','D','E','F','G','H','I',\n",
    "             'J','K','L','M','N','O','P','Q','R',\n",
    "             'S','T','U','V','W','X','Y','Z','0',\n",
    "             '1','2','3','4','5','6','7','8','9']\n",
    "    image = construct_training_data()\n",
    "    temp = generate_binary_image(image)\n",
    "    num_of_label,labeled = cv2.connectedComponents(temp)\n",
    "    assert num_of_label==len(table)+1, 'the numbers of connected components is incorrect, detected {}'.format(num_of_label)\n",
    "\n",
    "    visited = [False for _ in range(len(table))]\n",
    "    reference_table =[]\n",
    "    for i in range(len(labeled)):\n",
    "        for j in range(len(labeled[0])):\n",
    "            if labeled[i][j] > 0 and not visited[labeled[i][j]-1]:\n",
    "                visited[labeled[i][j]-1] = True\n",
    "                reference_table.append(labeled[i][j])\n",
    "    print('the reference table is {}\\n'.format(reference_table))\n",
    "\n",
    "    for i in range(num_of_label):\n",
    "        res = np.zeros(labeled.shape)\n",
    "        res[labeled==reference_table[i]]=1\n",
    "        target = table[i]\n",
    "        gray_ratio, gray_cir, duda_ratio, duda_cir = bit_quad_ratio(res)\n",
    "        result_gray.append((target,gray_ratio,gray_cir))\n",
    "        result_duda.append((target,duda_ratio,duda_cir))\n",
    "    print(result_gray)\n",
    "    return result_gray,result_duda\n",
    "\n"
   ]
  },
  {
   "cell_type": "code",
   "execution_count": 68,
   "metadata": {},
   "outputs": [
    {
     "name": "stdout",
     "output_type": "stream",
     "text": [
      "there are 37 object in the given image\n",
      "The shape of the given image is (540, 1240).\n",
      "The data type of the given image is int8.\n"
     ]
    }
   ],
   "source": [
    "temp = construct_reference()\n",
    "show_image(temp)"
   ]
  },
  {
   "cell_type": "code",
   "execution_count": 44,
   "metadata": {},
   "outputs": [
    {
     "name": "stdout",
     "output_type": "stream",
     "text": [
      "the reference table is [1, 2, 3, 4, 5, 6, 7, 8, 9, 10, 11, 12, 15, 17, 19, 13, 14, 16, 18, 20, 21, 22, 23, 24, 25, 26, 27, 28, 29, 30, 31, 32, 33, 34, 35, 36]\n",
      "\n"
     ]
    },
    {
     "ename": "KeyboardInterrupt",
     "evalue": "",
     "output_type": "error",
     "traceback": [
      "\u001b[0;31m---------------------------------------------------------------------------\u001b[0m",
      "\u001b[0;31mKeyboardInterrupt\u001b[0m                         Traceback (most recent call last)",
      "Cell \u001b[0;32mIn[44], line 1\u001b[0m\n\u001b[0;32m----> 1\u001b[0m reference_gray, reference_duda \u001b[38;5;241m=\u001b[39m \u001b[43mgenerate_reference_table\u001b[49m\u001b[43m(\u001b[49m\u001b[43m)\u001b[49m\n\u001b[1;32m      2\u001b[0m \u001b[38;5;28mprint\u001b[39m(reference_gray)\n\u001b[1;32m      3\u001b[0m \u001b[38;5;28mprint\u001b[39m(reference_duda)\n",
      "Cell \u001b[0;32mIn[43], line 152\u001b[0m, in \u001b[0;36mgenerate_reference_table\u001b[0;34m()\u001b[0m\n\u001b[1;32m    150\u001b[0m res[labeled\u001b[38;5;241m==\u001b[39mreference_table[i]]\u001b[38;5;241m=\u001b[39m\u001b[38;5;241m1\u001b[39m\n\u001b[1;32m    151\u001b[0m target \u001b[38;5;241m=\u001b[39m table[i]\n\u001b[0;32m--> 152\u001b[0m gray_ratio, gray_cir, duda_ratio, duda_cir \u001b[38;5;241m=\u001b[39m \u001b[43mbit_quad_ratio\u001b[49m\u001b[43m(\u001b[49m\u001b[43mres\u001b[49m\u001b[43m)\u001b[49m\n\u001b[1;32m    153\u001b[0m result_gray\u001b[38;5;241m.\u001b[39mappend((target,gray_ratio,gray_cir))\n\u001b[1;32m    154\u001b[0m result_duda\u001b[38;5;241m.\u001b[39mappend((target,duda_ratio,duda_cir))\n",
      "Cell \u001b[0;32mIn[43], line 106\u001b[0m, in \u001b[0;36mbit_quad_ratio\u001b[0;34m(image)\u001b[0m\n\u001b[1;32m    104\u001b[0m     duda_area \u001b[38;5;241m+\u001b[39m\u001b[38;5;241m=\u001b[39m \u001b[38;5;241m4\u001b[39m\n\u001b[1;32m    105\u001b[0m     duda_perimeter_1 \u001b[38;5;241m+\u001b[39m\u001b[38;5;241m=\u001b[39m \u001b[38;5;241m1\u001b[39m\n\u001b[0;32m--> 106\u001b[0m \u001b[38;5;28;01melif\u001b[39;00m np\u001b[38;5;241m.\u001b[39many([np\u001b[38;5;241m.\u001b[39marray_equal(grab_local, q) \u001b[38;5;28;01mfor\u001b[39;00m q \u001b[38;5;129;01min\u001b[39;00m q3]):\n\u001b[1;32m    107\u001b[0m     gray_area \u001b[38;5;241m+\u001b[39m\u001b[38;5;241m=\u001b[39m \u001b[38;5;241m3\u001b[39m\n\u001b[1;32m    108\u001b[0m     gray_perimeter \u001b[38;5;241m+\u001b[39m\u001b[38;5;241m=\u001b[39m \u001b[38;5;241m1\u001b[39m\n",
      "Cell \u001b[0;32mIn[43], line 106\u001b[0m, in \u001b[0;36m<listcomp>\u001b[0;34m(.0)\u001b[0m\n\u001b[1;32m    104\u001b[0m     duda_area \u001b[38;5;241m+\u001b[39m\u001b[38;5;241m=\u001b[39m \u001b[38;5;241m4\u001b[39m\n\u001b[1;32m    105\u001b[0m     duda_perimeter_1 \u001b[38;5;241m+\u001b[39m\u001b[38;5;241m=\u001b[39m \u001b[38;5;241m1\u001b[39m\n\u001b[0;32m--> 106\u001b[0m \u001b[38;5;28;01melif\u001b[39;00m np\u001b[38;5;241m.\u001b[39many([\u001b[43mnp\u001b[49m\u001b[38;5;241;43m.\u001b[39;49m\u001b[43marray_equal\u001b[49m\u001b[43m(\u001b[49m\u001b[43mgrab_local\u001b[49m\u001b[43m,\u001b[49m\u001b[43m \u001b[49m\u001b[43mq\u001b[49m\u001b[43m)\u001b[49m \u001b[38;5;28;01mfor\u001b[39;00m q \u001b[38;5;129;01min\u001b[39;00m q3]):\n\u001b[1;32m    107\u001b[0m     gray_area \u001b[38;5;241m+\u001b[39m\u001b[38;5;241m=\u001b[39m \u001b[38;5;241m3\u001b[39m\n\u001b[1;32m    108\u001b[0m     gray_perimeter \u001b[38;5;241m+\u001b[39m\u001b[38;5;241m=\u001b[39m \u001b[38;5;241m1\u001b[39m\n",
      "File \u001b[0;32m~/.local/lib/python3.10/site-packages/numpy/core/numeric.py:2439\u001b[0m, in \u001b[0;36marray_equal\u001b[0;34m(a1, a2, equal_nan)\u001b[0m\n\u001b[1;32m   2437\u001b[0m     \u001b[38;5;28;01mreturn\u001b[39;00m \u001b[38;5;28;01mFalse\u001b[39;00m\n\u001b[1;32m   2438\u001b[0m \u001b[38;5;28;01mif\u001b[39;00m \u001b[38;5;129;01mnot\u001b[39;00m equal_nan:\n\u001b[0;32m-> 2439\u001b[0m     \u001b[38;5;28;01mreturn\u001b[39;00m \u001b[38;5;28mbool\u001b[39m(\u001b[43masarray\u001b[49m\u001b[43m(\u001b[49m\u001b[43ma1\u001b[49m\u001b[43m \u001b[49m\u001b[38;5;241;43m==\u001b[39;49m\u001b[43m \u001b[49m\u001b[43ma2\u001b[49m\u001b[43m)\u001b[49m\u001b[38;5;241;43m.\u001b[39;49m\u001b[43mall\u001b[49m\u001b[43m(\u001b[49m\u001b[43m)\u001b[49m)\n\u001b[1;32m   2440\u001b[0m \u001b[38;5;66;03m# Handling NaN values if equal_nan is True\u001b[39;00m\n\u001b[1;32m   2441\u001b[0m a1nan, a2nan \u001b[38;5;241m=\u001b[39m isnan(a1), isnan(a2)\n",
      "File \u001b[0;32m~/.local/lib/python3.10/site-packages/numpy/core/_methods.py:64\u001b[0m, in \u001b[0;36m_all\u001b[0;34m(a, axis, dtype, out, keepdims, where)\u001b[0m\n\u001b[1;32m     61\u001b[0m \u001b[38;5;28;01mdef\u001b[39;00m \u001b[38;5;21m_all\u001b[39m(a, axis\u001b[38;5;241m=\u001b[39m\u001b[38;5;28;01mNone\u001b[39;00m, dtype\u001b[38;5;241m=\u001b[39m\u001b[38;5;28;01mNone\u001b[39;00m, out\u001b[38;5;241m=\u001b[39m\u001b[38;5;28;01mNone\u001b[39;00m, keepdims\u001b[38;5;241m=\u001b[39m\u001b[38;5;28;01mFalse\u001b[39;00m, \u001b[38;5;241m*\u001b[39m, where\u001b[38;5;241m=\u001b[39m\u001b[38;5;28;01mTrue\u001b[39;00m):\n\u001b[1;32m     62\u001b[0m     \u001b[38;5;66;03m# Parsing keyword arguments is currently fairly slow, so avoid it for now\u001b[39;00m\n\u001b[1;32m     63\u001b[0m     \u001b[38;5;28;01mif\u001b[39;00m where \u001b[38;5;129;01mis\u001b[39;00m \u001b[38;5;28;01mTrue\u001b[39;00m:\n\u001b[0;32m---> 64\u001b[0m         \u001b[38;5;28;01mreturn\u001b[39;00m \u001b[43mumr_all\u001b[49m\u001b[43m(\u001b[49m\u001b[43ma\u001b[49m\u001b[43m,\u001b[49m\u001b[43m \u001b[49m\u001b[43maxis\u001b[49m\u001b[43m,\u001b[49m\u001b[43m \u001b[49m\u001b[43mdtype\u001b[49m\u001b[43m,\u001b[49m\u001b[43m \u001b[49m\u001b[43mout\u001b[49m\u001b[43m,\u001b[49m\u001b[43m \u001b[49m\u001b[43mkeepdims\u001b[49m\u001b[43m)\u001b[49m\n\u001b[1;32m     65\u001b[0m     \u001b[38;5;28;01mreturn\u001b[39;00m umr_all(a, axis, dtype, out, keepdims, where\u001b[38;5;241m=\u001b[39mwhere)\n",
      "\u001b[0;31mKeyboardInterrupt\u001b[0m: "
     ]
    }
   ],
   "source": [
    "\n",
    "reference_gray, reference_duda = generate_reference_table()\n",
    "print(reference_gray)\n",
    "print(reference_duda)"
   ]
  },
  {
   "cell_type": "code",
   "execution_count": null,
   "metadata": {},
   "outputs": [],
   "source": [
    "references = [reference_gray,reference_duda]"
   ]
  },
  {
   "cell_type": "code",
   "execution_count": 58,
   "metadata": {},
   "outputs": [],
   "source": [
    "reference_gray = []\n",
    "reference_duda = []\n",
    "temp = [{'id': 'K', 'gray_area': 6031.25, 'gray_perimeter': 845, 'duda_area': 6052.125, 'duda_perimeter': 729.3071785686863}, {'id': 'J', 'gray_area': 3576.25, 'gray_perimeter': 477, 'duda_area': 3583.125, 'duda_perimeter': 439.8025612106915}, {'id': 'H', 'gray_area': 6081.5, 'gray_perimeter': 748, 'duda_area': 6083.5, 'duda_perimeter': 735.698484809835}, {'id': 'I', 'gray_area': 2513.0, 'gray_perimeter': 316, 'duda_area': 2513.5, 'duda_perimeter': 312.4852813742386}, {'id': 'Z', 'gray_area': 5612.25, 'gray_perimeter': 811, 'duda_area': 5632.875, 'duda_perimeter': 711.7091988222396}, {'id': 'M', 'gray_area': 9215.0, 'gray_perimeter': 1194, 'duda_area': 9229.625, 'duda_perimeter': 1113.747258045114}, {'id': 'L', 'gray_area': 3560.75, 'gray_perimeter': 451, 'duda_area': 3561.125, 'duda_perimeter': 447.19238815542514}, {'id': '8', 'gray_area': 6036.5, 'gray_perimeter': 862, 'duda_area': 6061.0, 'duda_perimeter': 729.0264786586926}, {'id': 'Y', 'gray_area': 4095.5, 'gray_perimeter': 610, 'duda_area': 4113.5, 'duda_perimeter': 512.1736649163068}, {'id': 'N', 'gray_area': 7078.25, 'gray_perimeter': 849, 'duda_area': 7087.5, 'duda_perimeter': 784.270598642227}, {'id': 'O', 'gray_area': 6536.75, 'gray_perimeter': 899, 'duda_area': 6560.125, 'duda_perimeter': 769.8340905032674}, {'id': 'X', 'gray_area': 5526.5, 'gray_perimeter': 834, 'duda_area': 5557.0, 'duda_perimeter': 667.050865276332}, {'id': '9', 'gray_area': 5752.5, 'gray_perimeter': 852, 'duda_area': 5775.25, 'duda_perimeter': 728.399061660723}, {'id': '4', 'gray_area': 4895.5, 'gray_perimeter': 662, 'duda_area': 4910.25, 'duda_perimeter': 589.9482681718907}, {'id': 'U', 'gray_area': 5664.5, 'gray_perimeter': 730, 'duda_area': 5673.25, 'duda_perimeter': 682.5512985522207}, {'id': 'B', 'gray_area': 7678.25, 'gray_perimeter': 937, 'duda_area': 7690.625, 'duda_perimeter': 868.1700935788386}, {'id': 'C', 'gray_area': 5455.25, 'gray_perimeter': 793, 'duda_area': 5476.875, 'duda_perimeter': 672.620887067671}, {'id': 'T', 'gray_area': 3979.75, 'gray_perimeter': 499, 'duda_area': 3981.125, 'duda_perimeter': 490.5060966544099}, {'id': '5', 'gray_area': 5287.25, 'gray_perimeter': 759, 'duda_area': 5303.0, 'duda_perimeter': 672.0107140124046}, {'id': '7', 'gray_area': 3611.25, 'gray_perimeter': 545, 'duda_area': 3623.375, 'duda_perimeter': 486.71424945612296}, {'id': 'V', 'gray_area': 4712.75, 'gray_perimeter': 733, 'duda_area': 4732.625, 'duda_perimeter': 624.922402257836}, {'id': 'A', 'gray_area': 5413.5, 'gray_perimeter': 788, 'duda_area': 5432.375, 'duda_perimeter': 682.5584412271571}, {'id': 'W', 'gray_area': 8847.5, 'gray_perimeter': 1296, 'duda_area': 8873.75, 'duda_perimeter': 1154.825468531916}, {'id': '6', 'gray_area': 5888.5, 'gray_perimeter': 864, 'duda_area': 5911.625, 'duda_perimeter': 737.4701294725885}, {'id': 'D', 'gray_area': 6855.0, 'gray_perimeter': 852, 'duda_area': 6865.375, 'duda_perimeter': 794.0071426749364}, {'id': '2', 'gray_area': 4880.75, 'gray_perimeter': 763, 'duda_area': 4903.875, 'duda_perimeter': 646.7213921310594}, {'id': 'S', 'gray_area': 6337.75, 'gray_perimeter': 871, 'duda_area': 6357.5, 'duda_perimeter': 752.9640328181786}, {'id': 'R', 'gray_area': 7114.25, 'gray_perimeter': 883, 'duda_area': 7126.25, 'duda_perimeter': 808.8980156401965}, {'id': '3', 'gray_area': 4776.25, 'gray_perimeter': 745, 'duda_area': 4796.125, 'duda_perimeter': 635.1650429449553}, {'id': 'E', 'gray_area': 6622.0, 'gray_perimeter': 806, 'duda_area': 6623.75, 'duda_perimeter': 795.4558441227157}, {'id': 'G', 'gray_area': 6969.75, 'gray_perimeter': 965, 'duda_area': 6990.25, 'duda_perimeter': 851.6503243191939}, {'id': '1', 'gray_area': 2710.5, 'gray_perimeter': 420, 'duda_area': 2717.25, 'duda_perimeter': 386.6101730552664}, {'id': 'P', 'gray_area': 5673.75, 'gray_perimeter': 707, 'duda_area': 5680.75, 'duda_perimeter': 667.4594154601839}, {'id': 'Q', 'gray_area': 7243.0, 'gray_perimeter': 994, 'duda_area': 7268.375, 'duda_perimeter': 849.3107499061545}, {'id': '0', 'gray_area': 5283.0, 'gray_perimeter': 748, 'duda_area': 5299.75, 'duda_perimeter': 656.6173157302028}, {'id': 'F', 'gray_area': 4859.5, 'gray_perimeter': 598, 'duda_area': 4861.5, 'duda_perimeter': 585.698484809835}]\n",
    "for item in temp:\n",
    "    reference_gray.append((item['id'],(item['gray_area']/4)/item['gray_perimeter'],4*np.pi*item['gray_area']/(item['gray_perimeter']**2)))\n",
    "    reference_duda.append((item['id'],(item['duda_area']/8)/item['duda_perimeter'],4*np.pi*item['gray_area']/(item['gray_perimeter']**2)))\n",
    "references = [reference_gray,reference_duda]"
   ]
  },
  {
   "cell_type": "code",
   "execution_count": 79,
   "metadata": {},
   "outputs": [],
   "source": [
    "from collections import Counter\n",
    "def find_sign(image,references,background=1):\n",
    "    result = ''\n",
    "    target = np.zeros(image.shape).astype(np.int8)\n",
    "    temp = generate_binary_image(image)\n",
    "    if background!=0:\n",
    "        target[temp==1]=1\n",
    "    else:\n",
    "        target[temp!=1]=1\n",
    "    num_of_label,labeled = cv2.connectedComponents(target)\n",
    "    print('the objects of given image is {}'.format(num_of_label))\n",
    "    for i in range(num_of_label):\n",
    "        res = np.zeros(labeled.shape)\n",
    "        res[labeled==i]=1\n",
    "        temp_result=[float('inf') for _ in range(4)]\n",
    "        temp = [0 for _ in range(4)]\n",
    "        \n",
    "        gray,gray_cir,duda,duda_cir = bit_quad_ratio(res)\n",
    "        for i in range(len(references[0])):\n",
    "            if abs(references[0][i][1]-gray) < temp_result[0]:\n",
    "                temp_result[0] = references[0][i][1]-gray\n",
    "                temp[0] = references[0][i][0]\n",
    "            if abs(references[0][i][2]-gray_cir) < temp_result[1]:\n",
    "                temp_result[1] = references[0][i][2]-gray_cir\n",
    "                temp[1] = references[0][i][0]\n",
    "            if abs(references[1][i][1]-duda) < temp_result[2]:\n",
    "                temp_result[1] = references[1][i][1]-duda\n",
    "                temp[2] = references[1][i][0]\n",
    "            if abs(references[1][i][2]-duda_cir) < temp_result[3]:\n",
    "                temp_result[3] = references[1][i][2]-duda_cir\n",
    "                temp[3] = references[1][i][0]\n",
    "        \n",
    "        result += Counter(temp).most_common()[0][0]\n",
    "    print(result)"
   ]
  },
  {
   "cell_type": "code",
   "execution_count": 82,
   "metadata": {},
   "outputs": [
    {
     "name": "stdout",
     "output_type": "stream",
     "text": [
      "the objects of given image is 2\n",
      "FK\n"
     ]
    }
   ],
   "source": [
    "find_sign(image2,references)"
   ]
  },
  {
   "cell_type": "code",
   "execution_count": 83,
   "metadata": {},
   "outputs": [
    {
     "name": "stdout",
     "output_type": "stream",
     "text": [
      "the objects of given image is 1\n"
     ]
    },
    {
     "name": "stdout",
     "output_type": "stream",
     "text": [
      "K\n"
     ]
    }
   ],
   "source": [
    "find_sign(image3,references,background=0)"
   ]
  },
  {
   "cell_type": "code",
   "execution_count": 84,
   "metadata": {},
   "outputs": [
    {
     "name": "stdout",
     "output_type": "stream",
     "text": [
      "the objects of given image is 2\n",
      "FK\n"
     ]
    }
   ],
   "source": [
    "find_sign(image4,references)"
   ]
  },
  {
   "cell_type": "markdown",
   "metadata": {},
   "source": [
    "# Bonus"
   ]
  },
  {
   "cell_type": "code",
   "execution_count": 86,
   "metadata": {},
   "outputs": [],
   "source": [
    "image5 = change_to_grayscale(cv2.imread(\"./hw4_sample_images-2/hw4_sample_images/sample5.png\"))"
   ]
  },
  {
   "cell_type": "code",
   "execution_count": null,
   "metadata": {},
   "outputs": [],
   "source": []
  }
 ],
 "metadata": {
  "kernelspec": {
   "display_name": "Python 3",
   "language": "python",
   "name": "python3"
  },
  "language_info": {
   "codemirror_mode": {
    "name": "ipython",
    "version": 3
   },
   "file_extension": ".py",
   "mimetype": "text/x-python",
   "name": "python",
   "nbconvert_exporter": "python",
   "pygments_lexer": "ipython3",
   "version": "3.10.12"
  }
 },
 "nbformat": 4,
 "nbformat_minor": 2
}
