{
 "cells": [
  {
   "cell_type": "code",
   "execution_count": 1,
   "metadata": {},
   "outputs": [
    {
     "name": "stderr",
     "output_type": "stream",
     "text": [
      "/home/allan/.local/lib/python3.10/site-packages/matplotlib/projections/__init__.py:63: UserWarning: Unable to import Axes3D. This may be due to multiple versions of Matplotlib being installed (e.g. as a system package and as a pip package). As a result, the 3D projection is not available.\n",
      "  warnings.warn(\"Unable to import Axes3D. This may be due to multiple versions of \"\n"
     ]
    }
   ],
   "source": [
    "import cv2\n",
    "import numpy as np\n",
    "\n",
    "import matplotlib.pyplot as plt\n",
    "import math\n",
    "from scipy import signal\n",
    "from enum import Enum"
   ]
  },
  {
   "cell_type": "markdown",
   "metadata": {},
   "source": [
    "# Setting up"
   ]
  },
  {
   "cell_type": "code",
   "execution_count": 2,
   "metadata": {},
   "outputs": [],
   "source": [
    "def show_image(image):\n",
    "    print(\"The shape of the given image is {}.\".format(image.shape))\n",
    "    print(\"The data type of the given image is {}.\".format(image.dtype))\n",
    "    # cv2.imwrite('{}'.format(image_name),image)\n",
    "    cv2.imshow('image',image)\n",
    "    cv2.waitKey(0)\n",
    "    cv2.destroyAllWindows()\n",
    "\n",
    "def show_two_image(image1,image2):\n",
    "    print(\"The shape of the given image is {}.\".format(image1.shape))\n",
    "    print(\"The shape of the given image is {}.\".format(image2.shape))\n",
    "    print(\"The data type of the given image is {}.\".format(image1.dtype))\n",
    "    print(\"The data type of the given image is {}.\".format(image2.dtype))\n",
    "    cv2.imshow('image1',image1)\n",
    "    cv2.imshow('image2',image2)\n",
    "    cv2.waitKey(0)\n",
    "    cv2.destroyAllWindows()\n",
    "\n",
    "def image_save(image, image_name):\n",
    "    cv2.imwrite('{}'.format(image_name),image)\n",
    "    \n",
    "# def generate_image_histogram_value(image): \n",
    "#     result_count = []\n",
    "#     value_range = []\n",
    "#     for i in range(256):\n",
    "#         result_count.append(np.sum(image == i))\n",
    "#         value_range.append(i)\n",
    "#     return result_count, value_range\n",
    "\n",
    "def generate_image_histogram(image: np.ndarray, image_name): # TODO: write the result graph into a specific folder\n",
    "    plt.hist(image.flatten(),range=(0,270),bins=256)\n",
    "    plt.title('Histogram of {}'.format(image_name))\n",
    "    plt.xlabel('Pixel Value')\n",
    "    plt.ylabel('Pixel Number')\n",
    "    # plt.savefig('{}_hist.png'.format(image_name))\n",
    "    plt.show()\n",
    "\n",
    "def change_to_grayscale(arr): #input is constraint to a ndarray or a list\n",
    "    temp = [[] for i in range(len(arr))]\n",
    "    for i in range(0,len(arr)):\n",
    "        for j in range(0,len(arr[i])):\n",
    "            grayscale = 0.2989*arr[i][j][2] + 0.587*arr[i][j][1] + 0.114*arr[i][j][0]\n",
    "            temp[i].append(grayscale)\n",
    "    result = np.array(temp).astype(np.uint8)\n",
    "    return result"
   ]
  },
  {
   "cell_type": "markdown",
   "metadata": {},
   "source": [
    "# Problem 1"
   ]
  },
  {
   "cell_type": "code",
   "execution_count": 3,
   "metadata": {},
   "outputs": [],
   "source": [
    "def hit(target,pat):\n",
    "    if pat==0 and target!=0:\n",
    "        return False\n",
    "    elif pat!=0 and target==0:\n",
    "        return False\n",
    "    return True\n",
    "def hit_four_ero(target):\n",
    "    pattern = np.array([[0,1,0],[1,1,1],[0,1,0]])\n",
    "    if not np.any(target) or not target[1][1]:\n",
    "        return False\n",
    "    if target[2][1] and target[1][0] and target[0][1] and target[1][2]:\n",
    "        return False\n",
    "    result = target*pattern\n",
    "    if np.any(result):\n",
    "        return True\n",
    "    else:\n",
    "        return False\n",
    "def hit_four_dil(target):\n",
    "    pattern = np.array([[1,1,1],[1,0,1],[1,1,1]])\n",
    "    if target[1][1]:\n",
    "        return False\n",
    "    result = target*pattern\n",
    "    if np.any(result):\n",
    "        return True\n",
    "    else:\n",
    "        return False\n",
    "    \n",
    "def erosion(image):\n",
    "    temp_image = np.pad(image,((2,2),(2,2)),'constant',constant_values=(0,0))\n",
    "    temp = image\n",
    "    for i in range(len(image)):\n",
    "        for j in range(len(image[i])):\n",
    "            if hit_four_ero(temp_image[i:i+3,j:j+3]):\n",
    "                temp[i][j] = 0\n",
    "    result = np.array(temp).astype(np.uint8)\n",
    "    return result\n",
    "def dilation(image):\n",
    "    temp_image = np.pad(image,((2,2),(2,2)),'constant',constant_values=(0,0))\n",
    "    temp = image\n",
    "    for i in range(len(image)):\n",
    "        for j in range(len(image[i])):\n",
    "            if hit_four_dil(temp_image[i:i+3,j:j+3]):\n",
    "                temp[i][j] = 255\n",
    "    result = np.array(temp).astype(np.uint8)\n",
    "    return result\n",
    "\n",
    "def erode(image,iteration=2):\n",
    "    temp_image = image\n",
    "    for i in range(iteration):\n",
    "        temp_image = erosion(temp_image)\n",
    "    return temp_image\n",
    "def dilate(image,iteration=2):\n",
    "    temp_image = image\n",
    "    for i in range(iteration):\n",
    "        temp_image = dilation(temp_image)\n",
    "    return temp_image\n",
    "\n",
    "\n",
    "    "
   ]
  },
  {
   "cell_type": "code",
   "execution_count": 27,
   "metadata": {},
   "outputs": [],
   "source": [
    "image1 = change_to_grayscale(cv2.imread(\"/home/allan/hw3_sample_images-2/hw3_sample_images/sample1.png\"))"
   ]
  },
  {
   "cell_type": "code",
   "execution_count": 5,
   "metadata": {},
   "outputs": [
    {
     "name": "stdout",
     "output_type": "stream",
     "text": [
      "The shape of the given image is (600, 650).\n",
      "The data type of the given image is uint8.\n"
     ]
    }
   ],
   "source": [
    "#1.\n",
    "def output_boundary(image):\n",
    "    temp_image_ero = erode(image,iteration=2)\n",
    "    # temp_image_dil = dilate(image,iteration=1)\n",
    "    temp_image_dil = image\n",
    "    result = temp_image_dil-temp_image_ero\n",
    "    return result\n",
    "result1 = output_boundary(image1)\n",
    "show_image(result1)\n",
    "image_save(result1,'result1_2r_erosion.png')"
   ]
  },
  {
   "cell_type": "code",
   "execution_count": 6,
   "metadata": {},
   "outputs": [
    {
     "data": {
      "text/plain": [
       "(600, 650)"
      ]
     },
     "execution_count": 6,
     "metadata": {},
     "output_type": "execute_result"
    }
   ],
   "source": [
    "image1.shape"
   ]
  },
  {
   "cell_type": "code",
   "execution_count": 7,
   "metadata": {},
   "outputs": [
    {
     "name": "stdout",
     "output_type": "stream",
     "text": [
      "The shape of the given image is (600, 650).\n",
      "The data type of the given image is uint8.\n"
     ]
    }
   ],
   "source": [
    "#2.\n",
    "import skimage.morphology,skimage.data\n",
    "def is_connected(target,i,j):\n",
    "    return np.any(target[i-2:i+2,j-2:j+2])\n",
    "\n",
    "    \n",
    "def hole_filling(image):\n",
    "    check = np.pad(np.array([[0 for j in range(len(image[0]))] for i in range(len(image))]),((1,1),(1,1)),'constant',constant_values=(0,0))\n",
    "    temp = image\n",
    "    background = image[0][0]\n",
    "    check[1][1] = 1\n",
    "    check[image.shape[0]+1][image.shape[1]+1] = 1\n",
    "\n",
    "    for i in range(len(image)):\n",
    "        for j in range(len(image[i])):\n",
    "            if temp[i][j] == background and is_connected(check,i+1,j+1):\n",
    "                check[i+1][j+1] = 1\n",
    "                \n",
    "    for i in reversed(range(len(image))):\n",
    "        for j in reversed(range(len(image[i]))):\n",
    "            if is_connected(check,i+1,j+1) and temp[i][j] == background:\n",
    "                check[i+1][j+1] = 1\n",
    "    for i in range(len(image)):\n",
    "        for j in range(len(image[i])):\n",
    "            if temp[i][j] == background and not is_connected(check,i+1,j+1):\n",
    "                temp[i][j] = 255\n",
    "\n",
    "    return temp\n",
    "                \n",
    "    \n",
    "    \n",
    "result2 = hole_filling(image1)\n",
    "show_image(result2)\n",
    "image_save(result2,'result2.png')"
   ]
  },
  {
   "cell_type": "code",
   "execution_count": 8,
   "metadata": {},
   "outputs": [
    {
     "name": "stdout",
     "output_type": "stream",
     "text": [
      "The shape of the given image is (600, 650).\n",
      "The data type of the given image is uint8.\n"
     ]
    }
   ],
   "source": [
    "#3.\n",
    "def median_filter(image,mask_s):\n",
    "    temp = image\n",
    "\n",
    "    for i in range(len(image)):\n",
    "        for j in range(len(image[i])):\n",
    "            mask = temp[i:i+mask_s,j:j+mask_s]\n",
    "            image[i][j] = int(np.median(mask))\n",
    "    return image\n",
    "\n",
    "def gaussian_kernel(size, sigma):\n",
    "    ax = np.linspace(-(size - 1) / 2., (size - 1) / 2., size)\n",
    "    gauss = np.exp(-0.5 * np.square(ax) / np.square(sigma))\n",
    "    kernel = np.outer(gauss, gauss)\n",
    "    return kernel / np.sum(kernel)\n",
    "def gaussian_filter(image,ker_s,sigma):\n",
    "    kernel = gaussian_kernel(ker_s,sigma)\n",
    "    result = signal.convolve2d(image,kernel,mode='same',boundary='symm')\n",
    "    return result\n",
    "\n",
    "result3_old = median_filter(image1,10)\n",
    "show_image(result3_old)\n",
    "image_save(result3_old,'result3_median_filter.png')"
   ]
  },
  {
   "cell_type": "code",
   "execution_count": 9,
   "metadata": {},
   "outputs": [
    {
     "name": "stdout",
     "output_type": "stream",
     "text": [
      "The shape of the given image is (600, 650).\n",
      "The data type of the given image is float64.\n"
     ]
    }
   ],
   "source": [
    "result3_old_gau = gaussian_filter(image1,3,2)\n",
    "show_image(result3_old_gau)\n",
    "image_save(result3_old_gau,'result3_gaussian_filter.png')"
   ]
  },
  {
   "cell_type": "code",
   "execution_count": 28,
   "metadata": {},
   "outputs": [
    {
     "name": "stdout",
     "output_type": "stream",
     "text": [
      "The shape of the given image is (600, 650).\n",
      "The data type of the given image is uint8.\n"
     ]
    }
   ],
   "source": [
    "def eliminate_noise(image):\n",
    "    temp_image = erode(image,iteration=10)\n",
    "    temp_image = dilate(temp_image,iteration=10)\n",
    "    return temp_image\n",
    "result3 = eliminate_noise(image1)\n",
    "show_image(result3)\n",
    "image_save(result3,'result3.png')"
   ]
  },
  {
   "cell_type": "code",
   "execution_count": 26,
   "metadata": {},
   "outputs": [
    {
     "name": "stdout",
     "output_type": "stream",
     "text": [
      "The shape of the given image is (600, 650).\n",
      "The data type of the given image is uint8.\n",
      "0\n"
     ]
    }
   ],
   "source": [
    "def is_connected_large(target,i,j):\n",
    "    return np.any(target[i-20:i+20,j-20:j+20])\n",
    "def counting_component(image):\n",
    "    check = np.pad(np.array([[0 for j in range(len(image[0]))] for i in range(len(image))]),((1,1),(1,1)),'constant',constant_values=(0,0))\n",
    "    temp = image\n",
    "    target = 255\n",
    "    count = 0\n",
    "    for i in range(len(image)):\n",
    "        for j in range(len(image[i])):\n",
    "            if temp[i][j] == target and is_connected_large(check,i+1,j+1):\n",
    "                check[i+1][j+1] = 1\n",
    "                temp[i][j] = 0\n",
    "            elif temp[i][j] == target:\n",
    "                check[i+1][j+1] = 1\n",
    "                temp[i][j] = 0\n",
    "                count += 1\n",
    "    show_image(temp)\n",
    "    return count\n",
    "num = counting_component(image1)\n",
    "print(num)"
   ]
  },
  {
   "cell_type": "markdown",
   "metadata": {},
   "source": [
    "# Problem 2"
   ]
  },
  {
   "cell_type": "markdown",
   "metadata": {},
   "source": []
  }
 ],
 "metadata": {
  "kernelspec": {
   "display_name": "Python 3",
   "language": "python",
   "name": "python3"
  },
  "language_info": {
   "codemirror_mode": {
    "name": "ipython",
    "version": 3
   },
   "file_extension": ".py",
   "mimetype": "text/x-python",
   "name": "python",
   "nbconvert_exporter": "python",
   "pygments_lexer": "ipython3",
   "version": "3.10.12"
  }
 },
 "nbformat": 4,
 "nbformat_minor": 2
}
